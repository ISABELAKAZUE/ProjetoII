{
  "nbformat": 4,
  "nbformat_minor": 0,
  "metadata": {
    "colab": {
      "provenance": [],
      "gpuType": "T4",
      "authorship_tag": "ABX9TyN4CPpZ9ctidzjTxBLCcOxn",
      "include_colab_link": true
    },
    "kernelspec": {
      "name": "python3",
      "display_name": "Python 3"
    },
    "language_info": {
      "name": "python"
    },
    "accelerator": "GPU"
  },
  "cells": [
    {
      "cell_type": "markdown",
      "metadata": {
        "id": "view-in-github",
        "colab_type": "text"
      },
      "source": [
        "<a href=\"https://colab.research.google.com/github/ISABELAKAZUE/ProjetoII/blob/main/notebook/training_model_tests.ipynb\" target=\"_parent\"><img src=\"https://colab.research.google.com/assets/colab-badge.svg\" alt=\"Open In Colab\"/></a>"
      ]
    },
    {
      "cell_type": "code",
      "execution_count": 1,
      "metadata": {
        "id": "5blf6zN1a0_x"
      },
      "outputs": [],
      "source": [
        "import tensorflow as tf"
      ]
    },
    {
      "cell_type": "markdown",
      "source": [
        "Se estiver executando este código no Google Colab, é recomendado ativar uma GPU:\n",
        "* Clique em \"Ambiente de execução\";\n",
        "* \"Alterar o tipo de ambiente de execução\";\n",
        "* Selecione uma GPU disponível;\n",
        "* \"Salvar\"."
      ],
      "metadata": {
        "id": "dqvbz14AeqjI"
      }
    },
    {
      "cell_type": "code",
      "source": [
        "print(tf.config.list_physical_devices('GPU'))"
      ],
      "metadata": {
        "colab": {
          "base_uri": "https://localhost:8080/"
        },
        "id": "myjY2d06a_sz",
        "outputId": "f70d61f6-ccf1-4452-b6a3-7cd7504c5287"
      },
      "execution_count": 2,
      "outputs": [
        {
          "output_type": "stream",
          "name": "stdout",
          "text": [
            "[PhysicalDevice(name='/physical_device:GPU:0', device_type='GPU')]\n"
          ]
        }
      ]
    },
    {
      "cell_type": "code",
      "source": [
        "from tensorflow.keras import Sequential\n",
        "from tensorflow.keras.layers import Conv2D, MaxPooling2D, Flatten, Dense, Rescaling\n",
        "from tensorflow.keras.metrics import R2Score"
      ],
      "metadata": {
        "id": "k0geLs45cGNT"
      },
      "execution_count": 3,
      "outputs": []
    },
    {
      "cell_type": "code",
      "source": [
        "model = Sequential()\n",
        "model.add(Rescaling(scale=1.0/255))\n",
        "model.add(Conv2D(32, kernel_size=(3, 3), activation='softmax'))\n",
        "model.add(MaxPooling2D(pool_size=(2, 2)))\n",
        "model.add(Conv2D(64, kernel_size=(3, 3), activation='softmax'))\n",
        "model.add(Flatten())\n",
        "model.add(Dense(1))\n",
        "\n",
        "model.compile(loss='binary_crossentropy',\n",
        "              optimizer='adam',\n",
        "              metrics=[R2Score()])"
      ],
      "metadata": {
        "id": "szMlUdStczcC"
      },
      "execution_count": 4,
      "outputs": []
    }
  ]
}